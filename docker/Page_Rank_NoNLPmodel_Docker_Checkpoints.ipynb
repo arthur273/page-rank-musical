{
 "cells": [
  {
   "cell_type": "code",
   "execution_count": 1,
   "metadata": {
    "id": "xI0IxlJ2Z3ir"
   },
   "outputs": [],
   "source": [
    "# import sys\n",
    "# !{sys.executable} -m pip install numpy pandas matplotlib unidecode unidecode beautifulsoup4 > /dev/null # dev null esconde output"
   ]
  },
  {
   "cell_type": "code",
   "execution_count": 3,
   "metadata": {
    "colab": {
     "base_uri": "https://localhost:8080/"
    },
    "id": "2nYqqq0AJI31",
    "outputId": "c7299d51-af94-46aa-d602-83986dab6655"
   },
   "outputs": [
    {
     "name": "stdout",
     "output_type": "stream",
     "text": [
      "Getting Artists\n",
      "Tag Amount 100\n",
      "Fetching artists for tag: mpb\n",
      "total artists 100\n"
     ]
    }
   ],
   "source": [
    "## Essa celula obtem a lista de artistas utilizando a api do last.fm\n",
    "\n",
    "import requests\n",
    "import time\n",
    "import os\n",
    "\n",
    "genius_token = os.getenv(\"GENIUSTOKEN\")\n",
    "if not genius_token:\n",
    "    raise ValueError(\"Missing genius API key. Set the GENIUSTOKEN environment variable.\")\n",
    "\n",
    "\n",
    "API_KEY =  os.getenv(\"LASTFMKEY\")\n",
    "if not API_KEY:\n",
    "    raise ValueError(\"Missing last.fm API key. Set the LASTFMKEY environment variable.\")\n",
    "\n",
    "\n",
    "BASE_URL = 'http://ws.audioscrobbler.com/2.0/'\n",
    "LIMIT_PER_PAGE = 100 # 100 is the max\n",
    "TOTAL_ARTISTS = 100000\n",
    "\n",
    "tags = [\"brasil\", \"brazil\", \"brazilian\", \"brazilian music\", \"musica brasileira\"]\n",
    "number_artists_per_tag = [5000, 5000, 5000, 5000, 5000] ## com esses numeros, considerando 0 overlap, \n",
    "#50 musicas por artista o total de tempo de busca das letras seria de 14 dias \n",
    "\n",
    "# tags = [\"mpb\"]\n",
    "# number_artists_per_tag = [100] #todos os numeros precisamos maior que 100\n",
    "\n",
    "def get_top_artists_by_tag(tag, total_artists=300):\n",
    "    print(\"total artists\", total_artists)\n",
    "    all_artists = []\n",
    "    pages_needed = total_artists // LIMIT_PER_PAGE\n",
    "\n",
    "    for page in range(1, pages_needed + 1):\n",
    "        params = {\n",
    "            'method': 'tag.getTopArtists',\n",
    "            'tag': tag,\n",
    "            'api_key': API_KEY,\n",
    "            'format': 'json',\n",
    "            'limit': LIMIT_PER_PAGE,\n",
    "            'page': page\n",
    "        }\n",
    "        response = requests.get(BASE_URL, params=params)\n",
    "        if response.status_code == 200:\n",
    "            data = response.json()\n",
    "            artists = data.get('topartists', {}).get('artist', [])\n",
    "            for artist in artists:\n",
    "                all_artists.append(artist['name'])\n",
    "        else:\n",
    "            print(f\"Erro ao buscar página {page}: status {response.status_code}\")\n",
    "        time.sleep(0.2)  # evitar sobrecarga na API\n",
    "\n",
    "    return all_artists\n",
    "\n",
    "\n",
    "def merge_unique_artists(artist_lists):\n",
    "    merged = []\n",
    "    seen = set()\n",
    "    for artist_list in artist_lists:\n",
    "        for artist in artist_list:\n",
    "            if artist not in seen:\n",
    "                seen.add(artist)\n",
    "                merged.append(artist)\n",
    "    return merged\n",
    "\n",
    "\n",
    "def get_artists_by_tags(tags, number_per_tag):\n",
    "    print(\"Getting Artists\")\n",
    "    all_artist_lists = []\n",
    "    i = 0\n",
    "    for tag in tags:\n",
    "        tag_amount = number_per_tag[i]\n",
    "        print(\"Tag Amount\" , tag_amount)\n",
    "        print(f\"Fetching artists for tag: {tag}\")\n",
    "        artist_list = get_top_artists_by_tag(tag, tag_amount)\n",
    "        all_artist_lists.append(artist_list)\n",
    "        i += 1\n",
    "\n",
    "    return merge_unique_artists(all_artist_lists)\n",
    "\n",
    "artist_list = get_artists_by_tags(tags, number_artists_per_tag)\n",
    "#artist_list"
   ]
  },
  {
   "cell_type": "code",
   "execution_count": 4,
   "metadata": {
    "colab": {
     "base_uri": "https://localhost:8080/",
     "height": 349
    },
    "id": "Va9nhXcsCRbC",
    "outputId": "99930b48-a293-4f89-b04a-4be05368af6e"
   },
   "outputs": [
    {
     "name": "stdout",
     "output_type": "stream",
     "text": [
      "EXECUTING SEARCH\n",
      "Processing artist: ANAVITÓRIA, artist 1/100\n",
      "Processing artist: Chico Buarque, artist 2/100\n",
      "Processing artist: Caetano Veloso, artist 3/100\n",
      "Processing artist: Rita Lee, artist 4/100\n",
      "Processing artist: Jorge Ben Jor, artist 5/100\n"
     ]
    }
   ],
   "source": [
    "##This cell gets lyrics\n",
    "from getpass import getpass\n",
    "from bs4 import BeautifulSoup\n",
    "import json\n",
    "\n",
    "artists = artist_list\n",
    "\n",
    "BASE_URL = 'http://ws.audioscrobbler.com/2.0/'\n",
    "\n",
    "\n",
    "def get_top_tracks(artist_name):\n",
    "    params = {\n",
    "        'method': 'artist.getTopTracks',\n",
    "        'artist': artist_name,\n",
    "        'api_key': API_KEY,\n",
    "        'format': 'json',\n",
    "        'limit': 50 ## 50 eh o default\n",
    "    }\n",
    "    response = requests.get(BASE_URL, params=params)\n",
    "    if response.status_code == 200:\n",
    "        data = response.json()\n",
    "        tracks = data.get('toptracks', {}).get('track', [])\n",
    "        # Ensure tracks is a list\n",
    "        if isinstance(tracks, dict):\n",
    "            tracks = [tracks]\n",
    "        return [track['name'] for track in tracks]\n",
    "    else:\n",
    "        print(f\"Error fetching tracks for {artist_name}: {response.status_code}\")\n",
    "        return []\n",
    "\n",
    "def fetch_lyrics_from_url(song_url):\n",
    "    \"\"\"\n",
    "    Scrapes the lyrics from a Genius song page.\n",
    "    This is a workaround since the API doesn't return full lyrics.\n",
    "    \"\"\"\n",
    "    try:\n",
    "        response = requests.get(song_url, timeout=10)\n",
    "        if response.status_code != 200:\n",
    "            print(f\"Failed to fetch song page: {response.status_code}\")\n",
    "            return ''\n",
    "\n",
    "        soup = BeautifulSoup(response.text, 'html.parser')\n",
    "        lyrics_divs = soup.find_all(\"div\", class_=lambda x: x and 'Lyrics__Container-sc-3d1d18a3-1 bjajog' in x)\n",
    "\n",
    "        lyrics = []\n",
    "        for div in lyrics_divs:\n",
    "            #print(div)\n",
    "            #print(\"\\n \\n \\n\")\n",
    "            for br in div.find_all(\"br\"):\n",
    "                br.replace_with(\"\\n\")\n",
    "            lyrics.append(div.get_text(separator=\"\\n\"))\n",
    "\n",
    "        return \" \".join(lyrics)#.strip()\n",
    "    except Exception as e:\n",
    "        print(f\"Error scraping lyrics page: {e}\")\n",
    "        return ''\n",
    "\n",
    "\n",
    "def search_lyrics_raw(genius_token, artist, title, verbose=True, retries=3, sleep_seconds=2):\n",
    "    headers = {\n",
    "        \"Authorization\": f\"Bearer {genius_token}\"\n",
    "    }\n",
    "\n",
    "    search_query = f\"{title} {artist}\"\n",
    "    search_url = \"https://api.genius.com/search\"\n",
    "    params = {\"q\": search_query}\n",
    "\n",
    "    for attempt in range(1, retries + 1):\n",
    "        try:\n",
    "            response = requests.get(search_url, headers=headers, params=params, timeout=10)\n",
    "\n",
    "            debug_info = {\n",
    "                \"attempt\": attempt,\n",
    "                \"status_code\": response.status_code,\n",
    "                \"response_text_snippet\": response.text[:200],  # first 200 chars for preview\n",
    "                \"url\": response.url\n",
    "            }\n",
    "\n",
    "            if verbose:\n",
    "                prisant(f\"[Attempt {attempt}] Searching for: {search_query}\")\n",
    "                print(f\"Status Code: {response.status_code}\")\n",
    "                print(f\"URL: {response.url}\")\n",
    "                print(\"Response Preview:\", response.text[:200])\n",
    "\n",
    "            if response.status_code == 200:\n",
    "                data = response.json()\n",
    "                hits = data.get(\"response\", {}).get(\"hits\", [])\n",
    "                if hits:\n",
    "                    # Get the URL of the first matching song\n",
    "                    song_url = hits[0][\"result\"][\"url\"]\n",
    "                    return fetch_lyrics_from_url(song_url), debug_info\n",
    "                else:\n",
    "                    print(f\"No results found for: {search_query}\")\n",
    "                    return '', debug_info\n",
    "\n",
    "            elif response.status_code == 401:\n",
    "                print(\"🔒 Unauthorized – check your API token.\")\n",
    "                return '', debug_info\n",
    "\n",
    "            elif response.status_code == 429:\n",
    "                print(\"⏳ Rate limited – too many requests. Try again later.\")\n",
    "                time.sleep(sleep_seconds * attempt)\n",
    "                continue\n",
    "\n",
    "            else:\n",
    "                print(f\"⚠️ Unexpected status code: {response.status_code}\")\n",
    "                return '', debug_info\n",
    "\n",
    "        except requests.exceptions.RequestException as e:\n",
    "            print(f\"❌ Network error on attempt {attempt}: {type(e).__name__}: {e}\")\n",
    "            time.sleep(sleep_seconds * attempt)\n",
    "\n",
    "    print(\"❌ Failed all retry attempts.\")\n",
    "    return '', {\"error\": \"Retries exhausted\"}\n",
    "\n",
    "\n",
    "def append_artist_lyrics(filename, artist, lyrics):\n",
    "    with open(filename, 'a', encoding='utf-8') as f:\n",
    "        entry = {'artista': artist, 'letra': lyrics}\n",
    "        json_line = json.dumps(entry, ensure_ascii=False)\n",
    "        f.write(json_line + '\\n')\n",
    "\n",
    "def get_processed_artists(filename):\n",
    "    processed = set()\n",
    "    if os.path.exists(filename):\n",
    "        with open(filename, 'r', encoding='utf-8') as f:\n",
    "            for line in f:\n",
    "                if line.strip():\n",
    "                    entry = json.loads(line)\n",
    "                    processed.add(entry['artista'])\n",
    "    return processed\n",
    "\n",
    "checkpoint_file = \"processed_artists_checkpoint.txt\"\n",
    "processed_artists = set()\n",
    "\n",
    "print(\"EXECUTING SEARCH\")\n",
    "processed_artists = get_processed_artists('musicas.ndjson')\n",
    "artist_index = 1\n",
    "\n",
    "for artist in artists[:5]:\n",
    "    if artist in processed_artists:\n",
    "        print(f\"Skipping already processed artist: {artist}\")\n",
    "        artist_index += 1\n",
    "        continue\n",
    "\n",
    "    print(f\"Processing artist: {artist}, artist {artist_index}/{len(artists)}\")\n",
    "    top_tracks = get_top_tracks(artist)\n",
    "    full_lyrics = ''\n",
    "    for title in top_tracks:\n",
    "        lyrics, debug_info = search_lyrics_raw(genius_token, artist, title, False)\n",
    "        if lyrics:\n",
    "            lyrics = lyrics.replace('\\r', '').replace('\\n', ' ').strip()\n",
    "            full_lyrics += ' ' + lyrics\n",
    "        else:\n",
    "            print(\"=== DEBUG INFO ===\")\n",
    "            for k, v in debug_info.items():\n",
    "                print(f\"{k}: {v}\")\n",
    "        time.sleep(0.5)  # Respect API rate limit\n",
    "\n",
    "    ndjson_filename = \"musicas.ndjson\"\n",
    "    append_artist_lyrics('musicas.ndjson', artist, full_lyrics)\n",
    "\n",
    "    artist_index += 1\n"
   ]
  },
  {
   "cell_type": "code",
   "execution_count": 7,
   "metadata": {},
   "outputs": [],
   "source": [
    "ndjson_filename = \"musicas.ndjson\"\n",
    "def load_all_lyrics(filename):\n",
    "    entries = []\n",
    "    with open(filename, 'r', encoding='utf-8') as f:\n",
    "        for line in f:\n",
    "            line = line.strip()\n",
    "            if line:\n",
    "                entry = json.loads(line)\n",
    "                entries.append(entry)\n",
    "    return entries\n",
    "\n",
    "musicas = load_all_lyrics(ndjson_filename)"
   ]
  },
  {
   "cell_type": "code",
   "execution_count": 18,
   "metadata": {
    "id": "K2vLHeGOgpUI"
   },
   "outputs": [
    {
     "name": "stdout",
     "output_type": "stream",
     "text": [
      "5\n",
      "Artistas que citam :  [{'artista': 'ANAVITÓRIA', 'entidades': ['Rita Lee']}, {'artista': 'Caetano Veloso', 'entidades': ['Rita Lee']}]\n"
     ]
    }
   ],
   "source": [
    "dados_artistas = []\n",
    "\n",
    "nomes_artistas = [m['artista'] for m in musicas]\n",
    "print(len(nomes_artistas))\n",
    "for m in musicas:\n",
    "    letra = m['letra'].lower()  # deixar tudo em minúsculo para comparação\n",
    "    artista_atual = m['artista'].lower()\n",
    "    #print(artista_atual)\n",
    "    citados = []\n",
    "\n",
    "    for outro in nomes_artistas:\n",
    "        outro_lower = outro.lower()\n",
    "        if outro_lower != artista_atual and outro_lower in letra:\n",
    "            citados.append(outro)\n",
    "\n",
    "    dados_artistas.append({\n",
    "        'artista': m['artista'],\n",
    "        'entidades': citados\n",
    "    })\n",
    "\n",
    "artistas_que_citam = [d for d in dados_artistas if d['entidades']]\n",
    "\n",
    "print(\"Artistas que citam : \", artistas_que_citam)\n"
   ]
  },
  {
   "cell_type": "code",
   "execution_count": 10,
   "metadata": {
    "id": "5xMjQHWthu9A"
   },
   "outputs": [],
   "source": [
    "# (sem acentos / lower-case)\n",
    "from unidecode import unidecode\n",
    "\n",
    "def normalizar(nome: str) -> str:\n",
    "    return unidecode(nome).lower().strip()\n",
    "\n",
    "# Índices únicos de artistas + entidades\n",
    "nomes = list({normalizar(d['artista']) for d in dados_artistas})\n",
    "indices = {nome: i for i, nome in enumerate(nomes)}\n"
   ]
  },
  {
   "cell_type": "code",
   "execution_count": 11,
   "metadata": {
    "id": "xgX5pWWI3Qud"
   },
   "outputs": [],
   "source": [
    "import numpy as np\n",
    "import pandas as pd\n",
    "\n",
    "# 7) Construção da matriz de adjacência\n",
    "def construir_matriz_adj(dados, indices):\n",
    "    N = len(indices)\n",
    "    M = np.zeros((N, N), dtype=float)\n",
    "    for item in dados:\n",
    "        orig = normalizar(item['artista'])\n",
    "        i_orig = indices[orig]\n",
    "        for ent in item['entidades']:\n",
    "            if ent:\n",
    "                dest = normalizar(ent)\n",
    "                j = indices.get(dest)\n",
    "                if j is not None and j != i_orig:\n",
    "                    M[j, i_orig] = 1\n",
    "    return M\n",
    "\n",
    "matriz_adj = construir_matriz_adj(dados_artistas, indices)\n",
    "\n",
    "\n"
   ]
  },
  {
   "cell_type": "code",
   "execution_count": 12,
   "metadata": {},
   "outputs": [],
   "source": [
    "# Inverte o dicionário: índice -> nome\n",
    "nomes_artistas = [nome for nome, _ in sorted(indices.items(), key=lambda x: x[1])]\n",
    "\n",
    "# Cria o DataFrame com artistas nas colunas\n",
    "df_adj = pd.DataFrame(matriz_adj, index=nomes_artistas, columns=nomes_artistas)\n",
    "\n",
    "#insere primeira linha com o nome dos artistas\n",
    "nomes_artistas_lst = pd.Series(nomes_artistas) # <-converted to series\n",
    "pd.concat([pd.Series(nomes_artistas_lst), df_adj], axis=1)\n",
    "\n",
    "\n",
    "df_adj.to_csv('matriz_adjacencia.csv', index=True)"
   ]
  },
  {
   "cell_type": "code",
   "execution_count": 13,
   "metadata": {
    "id": "B0ABCAH4s4wC"
   },
   "outputs": [
    {
     "data": {
      "image/png": "[encoded data removed]",
      "text/plain": [
       "<Figure size 1000x1000 with 2 Axes>"
      ]
     },
     "metadata": {},
     "output_type": "display_data"
    }
   ],
   "source": [
    "import matplotlib.pyplot as plt\n",
    "\n",
    "plt.figure(figsize=(10, 10))\n",
    "plt.imshow(matriz_adj, cmap='Greys', interpolation='none')\n",
    "plt.title('Matriz de Adjacência')\n",
    "plt.xlabel('Origem')\n",
    "plt.ylabel('Destino')\n",
    "plt.colorbar(label='Peso')\n",
    "plt.show()\n"
   ]
  },
  {
   "cell_type": "code",
   "execution_count": 14,
   "metadata": {
    "id": "-_Uoe-If3XFs"
   },
   "outputs": [],
   "source": [
    "# 8) Normalização\n",
    "\n",
    "def normalizar_colunas(M):\n",
    "    N = M.shape[0]\n",
    "    C = np.zeros_like(M)\n",
    "    for col in range(N):\n",
    "        s = M[:, col].sum()\n",
    "        if s == 0:\n",
    "            C[:, col] = 1.0 / N\n",
    "        else:\n",
    "            C[:, col] = M[:, col] / s\n",
    "    return C\n",
    "\n",
    "matriz_trans = normalizar_colunas(matriz_adj)"
   ]
  },
  {
   "cell_type": "code",
   "execution_count": 15,
   "metadata": {
    "id": "eOcALvK83X_M"
   },
   "outputs": [],
   "source": [
    "# 9) Cálculo de PageRank\n",
    "\n",
    "def page_rank(M, damping=0.85, tol=1e-6, max_iter=100):\n",
    "    N = M.shape[0]\n",
    "    r = np.ones(N) / N\n",
    "    for it in range(max_iter):\n",
    "        r_new = damping * (M @ r) + (1 - damping) / N\n",
    "        if np.linalg.norm(r_new - r, 1) < tol:\n",
    "            break\n",
    "        r = r_new\n",
    "    return r\n",
    "\n",
    "ranks = page_rank(matriz_trans)"
   ]
  },
  {
   "cell_type": "code",
   "execution_count": 16,
   "metadata": {
    "id": "q72bwkyc3awo"
   },
   "outputs": [],
   "source": [
    "# 10) Exibir top artistas e plot\n",
    "\n",
    "df = pd.DataFrame({\n",
    "    'nome': nomes,\n",
    "    'rank': ranks\n",
    "})\n",
    "df['rank'] = df['rank'].round(6)\n",
    "df_sorted = df.sort_values('rank', ascending=False).reset_index(drop=True)\n",
    "\n",
    "top10 = df_sorted.head(10)\n"
   ]
  },
  {
   "cell_type": "code",
   "execution_count": null,
   "metadata": {},
   "outputs": [],
   "source": [
    "df_sorted.to_csv('rank_sorted.csv', index=False)"
   ]
  },
  {
   "cell_type": "code",
   "execution_count": null,
   "metadata": {
    "id": "WApFRjyf37fU"
   },
   "outputs": [],
   "source": [
    "# Plotagem com anotação dos valores\n",
    "plt.figure(figsize=(10, 6))\n",
    "bars = plt.barh(top10['nome'][::-1], top10['rank'][::-1])\n",
    "plt.xlabel('PageRank')\n",
    "plt.title('Top 10 Artistas por Influência')\n",
    "plt.gca().invert_yaxis()\n",
    "\n",
    "# Anotar valor à direita de cada barra\n",
    "for bar in bars:\n",
    "    width = bar.get_width()\n",
    "    y = bar.get_y() + bar.get_height() / 2\n",
    "    plt.text(width + 0.0005, y, f'{width:.2f}', va='center')\n",
    "\n",
    "plt.tight_layout()\n",
    "plt.show()\n"
   ]
  },
  {
   "cell_type": "code",
   "execution_count": null,
   "metadata": {
    "id": "ZWft9bPoWKHI"
   },
   "outputs": [],
   "source": [
    "plt.figure(figsize=(16, 6))\n",
    "bars = plt.bar(df_sorted['nome'], df_sorted['rank'])\n",
    "\n",
    "plt.xlabel('Artista')\n",
    "plt.ylabel('PageRank')\n",
    "plt.title('PageRank de Todos os Artistas')\n",
    "\n",
    "plt.xticks(rotation=90, fontsize=8)\n",
    "\n",
    "# Adiciona os valores acima de cada barra\n",
    "for bar in bars:\n",
    "    height = bar.get_height()\n",
    "    plt.text(\n",
    "        bar.get_x() + bar.get_width() / 2,\n",
    "        height,\n",
    "        f'{height:.2f}',\n",
    "        ha='center',\n",
    "        va='bottom',\n",
    "        fontsize=7\n",
    "    )\n",
    "\n",
    "plt.tight_layout()\n",
    "plt.show()\n"
   ]
  }
 ],
 "metadata": {
  "colab": {
   "provenance": []
  },
  "kernelspec": {
   "display_name": "Python 3 (ipykernel)",
   "language": "python",
   "name": "python3"
  },
  "language_info": {
   "codemirror_mode": {
    "name": "ipython",
    "version": 3
   },
   "file_extension": ".py",
   "mimetype": "text/x-python",
   "name": "python",
   "nbconvert_exporter": "python",
   "pygments_lexer": "ipython3",
   "version": "3.8.18"
  }
 },
 "nbformat": 4,
 "nbformat_minor": 4
}
